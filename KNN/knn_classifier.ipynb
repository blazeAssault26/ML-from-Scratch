{
  "nbformat": 4,
  "nbformat_minor": 0,
  "metadata": {
    "colab": {
      "provenance": [],
      "gpuType": "T4"
    },
    "kernelspec": {
      "name": "python3",
      "display_name": "Python 3"
    },
    "language_info": {
      "name": "python"
    },
    "accelerator": "GPU"
  },
  "cells": [
    {
      "cell_type": "code",
      "execution_count": 60,
      "metadata": {
        "id": "zAeYzzHc7P_A"
      },
      "outputs": [],
      "source": [
        "import pandas as pd\n",
        "import numpy as np\n",
        "import matplotlib.pyplot as plt\n",
        "from collections import Counter\n",
        "\n",
        "from sklearn import datasets\n",
        "from sklearn.model_selection import train_test_split"
      ]
    },
    {
      "cell_type": "code",
      "source": [
        "iris =datasets.load_iris()\n",
        "X, y =iris.data, iris.target\n",
        "X.shape"
      ],
      "metadata": {
        "colab": {
          "base_uri": "https://localhost:8080/"
        },
        "id": "1fzKz_CA8THu",
        "outputId": "5462137c-fa18-41cd-8459-71f37f6c9624"
      },
      "execution_count": 61,
      "outputs": [
        {
          "output_type": "execute_result",
          "data": {
            "text/plain": [
              "(150, 4)"
            ]
          },
          "metadata": {},
          "execution_count": 61
        }
      ]
    },
    {
      "cell_type": "code",
      "source": [
        "X_train, X_test, y_train, y_test = train_test_split(X, y, test_size=0.2, random_state=42)"
      ],
      "metadata": {
        "id": "QGpBNzQY7Sog"
      },
      "execution_count": 62,
      "outputs": []
    },
    {
      "cell_type": "code",
      "source": [
        "class my_KNN:\n",
        "\n",
        "  def distance(self,x1,x2):\n",
        "    return np.sqrt(np.sum((x1-x2)**2))\n",
        "\n",
        "  def __init__(self,k=3):\n",
        "    self.k=k\n",
        "\n",
        "  # since knn is a lazy learner it only takes in the data during training\n",
        "  def fit(self,X ,y):\n",
        "    self.X=X\n",
        "    self.y=y\n",
        "\n",
        "  def predict(self,X):\n",
        "    y_predict = [self.predict_new(j) for j in X]\n",
        "    return np.array(y_predict)\n",
        "\n",
        "  def predict_new(self,x):\n",
        "\n",
        "    # Compute distances between x and all examples in the training set\n",
        "    distances = [self.distance(x,x_train) for x_train in self.X]\n",
        "\n",
        "    # Sort by distance and return indices of the first k neighbors\n",
        "    k_nearest = np.argsort(distances)[:self.k]\n",
        "\n",
        "    # Extract the labels of the k nearest neighbor training samples\n",
        "    k_nearest_labels = [self.y[i] for i in k_nearest]\n",
        "\n",
        "    majority_element = Counter(k_nearest_labels).most_common(1)\n",
        "    return majority_element[0][0]\n",
        ""
      ],
      "metadata": {
        "id": "8mrnxb1C7Srv"
      },
      "execution_count": 63,
      "outputs": []
    },
    {
      "cell_type": "code",
      "source": [],
      "metadata": {
        "id": "OeiM5Lxg2b3R"
      },
      "execution_count": 63,
      "outputs": []
    },
    {
      "cell_type": "code",
      "source": [],
      "metadata": {
        "id": "G3Jj7s5h2b6-"
      },
      "execution_count": 63,
      "outputs": []
    },
    {
      "cell_type": "code",
      "source": [
        "class KNN:\n",
        "\n",
        "    def __init__(self, k=3, distance_metric=\"Euclidean\"):\n",
        "        self.k = k\n",
        "        self.distance_metric = \"Euclidean\"\n",
        "\n",
        "\n",
        "    def __distance(self, x, y):\n",
        "        if(self.distance_metric==\"Euclidean\"): # Euclidean distance using l2 norm\n",
        "            return np.linalg.norm( (x-y), 2 )\n",
        "        elif(self.distance_metric == \"Manhattan\"): # Manhattan distance using l1 norm\n",
        "            return np.linalg.norm((x-y), 1)\n",
        "        else:\n",
        "            print(\"Please enter a valid distance metric\")\n",
        "            return -99999\n",
        "\n",
        "\n",
        "    def __calc_all_dist(self, train_data, point):\n",
        "        dists = []\n",
        "        [dists.append( [self.__distance(i[:-1], point) , i[-1]] ) for i in train_data]\n",
        "        return dists\n",
        "        # Distance of a given test_point from all the training points/samples\n",
        "\n",
        "    # The idea is to get the first k distances from the sorted distance list and find the\n",
        "    # maximum occuring category from this list\n",
        "    def __calc_votes(self, train_data, point):\n",
        "        distances = self.__calc_all_dist(train_data, point)\n",
        "        votes = []\n",
        "        [votes.append(i[1]) for i in sorted(distances)[:self.k]]\n",
        "        return Counter(votes).most_common(1)[0][0] # We want to find the (1st) most common category in this list containing the k nearest neighbors\n",
        "\n",
        "    # Calculate votes for all the test points with respect to the training data\n",
        "    def predict(self, train_data, test_data, test_size=0.2): # The data to be used for calculating the distance metric and the data whose category is to be predicted\n",
        "        if len(np.unique(train_data[:, -1])) > self.k:\n",
        "            warnings.warn(\"Hey! The number of categories is greater than k. Please increase the value of k\")\n",
        "        result = []\n",
        "        [result.append(self.__calc_votes(train_data, point)) for point in test_data[:, :-1]]\n",
        "        return result\n",
        ""
      ],
      "metadata": {
        "id": "vZefu8e22b97"
      },
      "execution_count": 64,
      "outputs": []
    },
    {
      "cell_type": "code",
      "source": [
        "def accuracy(y_true, y_pred):\n",
        "  accuracy = np.sum(y_true == y_pred) / len(y_true)\n",
        "  return accuracy"
      ],
      "metadata": {
        "id": "pF94wYmZ7Sux"
      },
      "execution_count": 65,
      "outputs": []
    },
    {
      "cell_type": "code",
      "source": [
        "k = 4\n",
        "classifier = my_KNN(k=k)\n",
        "classifier.fit(X_train, y_train)\n",
        "predictions = classifier.predict(X_test)\n",
        "print(\"KNN classification accuracy\", accuracy(y_test, predictions))"
      ],
      "metadata": {
        "colab": {
          "base_uri": "https://localhost:8080/"
        },
        "id": "JZQQYdxI7Sxp",
        "outputId": "b63e787f-d542-49d1-8f49-e39e19c2dc68"
      },
      "execution_count": 66,
      "outputs": [
        {
          "output_type": "stream",
          "name": "stdout",
          "text": [
            "KNN classification accuracy 1.0\n"
          ]
        }
      ]
    }
  ]
}