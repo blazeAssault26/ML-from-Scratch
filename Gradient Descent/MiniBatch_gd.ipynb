{
  "nbformat": 4,
  "nbformat_minor": 0,
  "metadata": {
    "colab": {
      "provenance": []
    },
    "kernelspec": {
      "name": "python3",
      "display_name": "Python 3"
    },
    "language_info": {
      "name": "python"
    }
  },
  "cells": [
    {
      "cell_type": "code",
      "execution_count": 3,
      "metadata": {
        "id": "pcpWa53Ssuyt"
      },
      "outputs": [],
      "source": [
        "from sklearn.datasets import load_diabetes\n",
        "\n",
        "import numpy as np\n",
        "from sklearn.linear_model import LinearRegression\n",
        "from sklearn.metrics import r2_score\n",
        "from sklearn.model_selection import train_test_split"
      ]
    },
    {
      "cell_type": "code",
      "source": [
        "X,y =load_diabetes(return_X_y =True)"
      ],
      "metadata": {
        "id": "vEs6o8Pjs6Cb"
      },
      "execution_count": 4,
      "outputs": []
    },
    {
      "cell_type": "code",
      "source": [
        "X_train, X_test, y_train , y_test =train_test_split(X,y,test_size=0.2,random_state =42)"
      ],
      "metadata": {
        "id": "sX_VGT9ss6FJ"
      },
      "execution_count": 5,
      "outputs": []
    },
    {
      "cell_type": "code",
      "source": [
        "rg =LinearRegression()\n",
        "rg.fit(X_train, y_train)\n",
        "\n",
        "print(rg.coef_, rg.intercept_)"
      ],
      "metadata": {
        "colab": {
          "base_uri": "https://localhost:8080/"
        },
        "id": "ShfEQ4iis6Hu",
        "outputId": "de6e77db-de97-43a6-fa53-f103816cadbb"
      },
      "execution_count": 6,
      "outputs": [
        {
          "output_type": "stream",
          "name": "stdout",
          "text": [
            "[  37.90402135 -241.96436231  542.42875852  347.70384391 -931.48884588\n",
            "  518.06227698  163.41998299  275.31790158  736.1988589    48.67065743] 151.34560453985995\n"
          ]
        }
      ]
    },
    {
      "cell_type": "code",
      "source": [
        "y_pred=rg.predict(X_test)\n",
        "r2_score(y_test, y_pred)"
      ],
      "metadata": {
        "colab": {
          "base_uri": "https://localhost:8080/"
        },
        "id": "l_4BbaM9s6KC",
        "outputId": "b6f9e115-3e5f-485a-8535-58ff1fca6857"
      },
      "execution_count": 7,
      "outputs": [
        {
          "output_type": "execute_result",
          "data": {
            "text/plain": [
              "0.4526027629719195"
            ]
          },
          "metadata": {},
          "execution_count": 7
        }
      ]
    },
    {
      "cell_type": "code",
      "source": [
        "class mini_bgd:\n",
        "  def __init__(self, batch_size, lr=0.1,epochs =100):\n",
        "    self.coef_ = None\n",
        "    self.intercept_ =None\n",
        "    self.batch_size =batch_size\n",
        "    self.epochs=epochs\n",
        "    self.lr= lr\n",
        "\n",
        "  def fit(self,X_train,y_train):\n",
        "#initializing coefficients\n",
        "    self.intercept_ = 0\n",
        "    self.coef_ = np.ones(X_train.shape[1])\n",
        "\n",
        "    for i in range(self.epochs):\n",
        "#iterating through the batches in the X_train\n",
        "      for j in range(int(X_train.shape[0]/ self.batch_size)):\n",
        " #randomly select 'batch_size' number of index from X_train\n",
        "        index = np.random.choice(range(X_train.shape[0]),self.batch_size)\n",
        "\n",
        "        y_hat = np.dot(X_train[index],self.coef_)+ self.intercept_\n",
        "\n",
        "        intercept_der = -2 * np.mean(y[index]-y_hat)\n",
        "        self.intercept_ -= self.lr*intercept_der\n",
        "\n",
        "        coeff_der = -2 * np.dot((y_train[index] -y_hat), X_train[index] )\n",
        "        self.coef_ -= self.lr * coeff_der\n",
        "\n",
        "  def predict(self,X_test):\n",
        "\n",
        "    return np.dot(X_test, self.coef_ ) +self.intercept_"
      ],
      "metadata": {
        "id": "kZeKH8wRs6Mc"
      },
      "execution_count": 13,
      "outputs": []
    },
    {
      "cell_type": "code",
      "source": [
        "mbr = mini_bgd(batch_size=int(X_train.shape[0]/50),lr=0.1,epochs=100)"
      ],
      "metadata": {
        "id": "eA--lWtZs6Oz"
      },
      "execution_count": 35,
      "outputs": []
    },
    {
      "cell_type": "code",
      "source": [
        "mbr.fit(X_train,y_train)\n",
        "\n",
        "print(mbr.coef_, mbr.intercept_)"
      ],
      "metadata": {
        "colab": {
          "base_uri": "https://localhost:8080/"
        },
        "id": "EVVNBPDps6RC",
        "outputId": "2c9b7510-baac-487c-dbc9-f238cbf28ba3"
      },
      "execution_count": 36,
      "outputs": [
        {
          "output_type": "stream",
          "name": "stdout",
          "text": [
            "[  38.81056849 -246.55908776  560.64871222  366.74540248 -174.43869918\n",
            "  -60.66521195 -169.91522863  142.84315974  445.61769464   44.93686244] 148.68171452690817\n"
          ]
        }
      ]
    },
    {
      "cell_type": "code",
      "source": [
        "y_pred = mbr.predict(X_test)"
      ],
      "metadata": {
        "id": "-6cui-i5s6TI"
      },
      "execution_count": 37,
      "outputs": []
    },
    {
      "cell_type": "code",
      "source": [
        "r2_score(y_test,y_pred)"
      ],
      "metadata": {
        "colab": {
          "base_uri": "https://localhost:8080/"
        },
        "id": "oCdt2epbs6V_",
        "outputId": "d8970b43-6a34-4318-8a5e-2ae318c99e41"
      },
      "execution_count": 38,
      "outputs": [
        {
          "output_type": "execute_result",
          "data": {
            "text/plain": [
              "0.45055259981372786"
            ]
          },
          "metadata": {},
          "execution_count": 38
        }
      ]
    },
    {
      "cell_type": "code",
      "source": [
        "#implementing mini abtch gradient descent for the sgd Regressor\n",
        "\n",
        "from sklearn.linear_model import SGDRegressor\n",
        "sgd = SGDRegressor(learning_rate='constant',eta0=0.1)\n",
        "batch_size = 50\n",
        "\n",
        "for i in range(100):\n",
        "\n",
        "    idx = np.random.choice(range(X_train.shape[0]),batch_size)\n",
        "    sgd.partial_fit(X_train[idx],y_train[idx])\n",
        "\n",
        "print(sgd.coef_, sgd.intercept_)"
      ],
      "metadata": {
        "colab": {
          "base_uri": "https://localhost:8080/"
        },
        "id": "QVW_Cb3ms6YG",
        "outputId": "852e5513-8ffb-498b-a0ab-a2662bb9c968"
      },
      "execution_count": 49,
      "outputs": [
        {
          "output_type": "stream",
          "name": "stdout",
          "text": [
            "[  36.91369989 -123.93575336  400.61032344  293.51556927  -32.45832954\n",
            "  -68.79841723 -199.26594237  152.96967458  310.22977776  135.73933562] [149.66261526]\n"
          ]
        }
      ]
    },
    {
      "cell_type": "code",
      "source": [
        "from sklearn.metrics import r2_score\n",
        "y_pred = sgd.predict(X_test)\n",
        "r2_score(y_test,y_pred)"
      ],
      "metadata": {
        "colab": {
          "base_uri": "https://localhost:8080/"
        },
        "id": "48sz_ZSys6bZ",
        "outputId": "7d70e597-f240-48df-b5d5-80bd8e1292ab"
      },
      "execution_count": 50,
      "outputs": [
        {
          "output_type": "execute_result",
          "data": {
            "text/plain": [
              "0.4523847903598198"
            ]
          },
          "metadata": {},
          "execution_count": 50
        }
      ]
    }
  ]
}