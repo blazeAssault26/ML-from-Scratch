{
  "nbformat": 4,
  "nbformat_minor": 0,
  "metadata": {
    "colab": {
      "provenance": []
    },
    "kernelspec": {
      "name": "python3",
      "display_name": "Python 3"
    },
    "language_info": {
      "name": "python"
    }
  },
  "cells": [
    {
      "cell_type": "code",
      "execution_count": 1,
      "metadata": {
        "id": "dKidi5A-cIWa"
      },
      "outputs": [],
      "source": [
        "import numpy as np\n",
        "from sklearn.datasets import load_diabetes"
      ]
    },
    {
      "cell_type": "code",
      "source": [
        "X,y = load_diabetes(return_X_y=True)"
      ],
      "metadata": {
        "id": "KhnieHXuYL-Z"
      },
      "execution_count": 2,
      "outputs": []
    },
    {
      "cell_type": "code",
      "source": [
        "from sklearn.model_selection import train_test_split\n",
        "X_train, X_test, y_train, y_test= train_test_split(X,y,test_size = 0.2,random_state=42)"
      ],
      "metadata": {
        "id": "IgrVY4geYMBv"
      },
      "execution_count": 3,
      "outputs": []
    },
    {
      "cell_type": "code",
      "source": [
        "from sklearn.linear_model import LinearRegression\n",
        "mlr=LinearRegression()\n",
        "mlr.fit(X_train, y_train)\n",
        "y_predict  = mlr.predict(X_test)"
      ],
      "metadata": {
        "id": "MfJwCJIgYMFY"
      },
      "execution_count": 4,
      "outputs": []
    },
    {
      "cell_type": "code",
      "source": [
        "from sklearn.metrics import r2_score\n",
        "r2_score(y_test, y_predict)"
      ],
      "metadata": {
        "colab": {
          "base_uri": "https://localhost:8080/"
        },
        "id": "XzmxllewYMH3",
        "outputId": "cb1b7898-8c3c-476d-d7c9-a64cd612170b"
      },
      "execution_count": 5,
      "outputs": [
        {
          "output_type": "execute_result",
          "data": {
            "text/plain": [
              "0.4526027629719195"
            ]
          },
          "metadata": {},
          "execution_count": 5
        }
      ]
    },
    {
      "cell_type": "code",
      "source": [
        "print(mlr.coef_)\n",
        "print(mlr.intercept_)"
      ],
      "metadata": {
        "colab": {
          "base_uri": "https://localhost:8080/"
        },
        "id": "doHzYYB9YMKp",
        "outputId": "a0eda5f3-0608-4393-9da4-07269772326f"
      },
      "execution_count": 8,
      "outputs": [
        {
          "output_type": "stream",
          "name": "stdout",
          "text": [
            "[  37.90402135 -241.96436231  542.42875852  347.70384391 -931.48884588\n",
            "  518.06227698  163.41998299  275.31790158  736.1988589    48.67065743]\n",
            "151.34560453985995\n"
          ]
        }
      ]
    },
    {
      "cell_type": "markdown",
      "source": [
        "**Linear Regression from Scratch**\n"
      ],
      "metadata": {
        "id": "A3ztUxvRaa-9"
      }
    },
    {
      "cell_type": "code",
      "source": [
        "class mlr_scratch:\n",
        "\n",
        "  def _init_(self):\n",
        "    self.coef_ = None\n",
        "    self.intercept_ =None\n",
        "\n",
        "  def fit(self, X_train, X_test):\n",
        "\n",
        "    X_train = np.insert(X_train, 0,1,axis=1)\n",
        "\n",
        "    beta = np.linalg.inv(np.dot(X_train.T, X_train)).dot(X_train.T).dot(y_train)\n",
        "    self.coef_ = beta[1:]\n",
        "    self.intercept_ =beta[0:]\n",
        "\n",
        "  def predict(self,X_test):\n",
        "    y_predict = np.dot(X_test, self.coef_)+self.intercept_\n",
        "    return y_predict\n"
      ],
      "metadata": {
        "id": "cyYxXfZpYMQA"
      },
      "execution_count": 9,
      "outputs": []
    },
    {
      "cell_type": "code",
      "source": [
        "mlr_new = mlr_scratch()"
      ],
      "metadata": {
        "id": "n0NyFa7QYMSY"
      },
      "execution_count": 10,
      "outputs": []
    },
    {
      "cell_type": "code",
      "source": [
        "mlr_new.fit(X_train, y_train)\n",
        "y_pred = mlr.predict(X_test)\n"
      ],
      "metadata": {
        "id": "Q73hFDKPYMUx"
      },
      "execution_count": 12,
      "outputs": []
    },
    {
      "cell_type": "code",
      "source": [
        "r2_score(y_test, y_pred)"
      ],
      "metadata": {
        "colab": {
          "base_uri": "https://localhost:8080/"
        },
        "id": "1kH7hHh2YMYI",
        "outputId": "b43e8eeb-1f26-4987-fd8f-4bb17363a92d"
      },
      "execution_count": 13,
      "outputs": [
        {
          "output_type": "execute_result",
          "data": {
            "text/plain": [
              "0.4526027629719195"
            ]
          },
          "metadata": {},
          "execution_count": 13
        }
      ]
    }
  ]
}